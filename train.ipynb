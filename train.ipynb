{
 "cells": [
  {
   "cell_type": "code",
   "execution_count": 1,
   "id": "e2fa0414",
   "metadata": {},
   "outputs": [
    {
     "name": "stdout",
     "output_type": "stream",
     "text": [
      "Using cuda\n"
     ]
    }
   ],
   "source": [
    "import os\n",
    "import torch\n",
    "from torch import nn, optim\n",
    "from torchvision import datasets, transforms\n",
    "from torch.utils.data import DataLoader\n",
    "# import matplotlib.pyplot as plt\n",
    "\n",
    "device = \"cuda\" if torch.cuda.is_available() else \"cpu\"\n",
    "print(f\"Using {device}\")\n",
    "os.environ[\"CUDA_LAUNCH_BLOCKING\"] = \"1\""
   ]
  },
  {
   "cell_type": "code",
   "execution_count": 8,
   "id": "dcd66549",
   "metadata": {},
   "outputs": [],
   "source": [
    "transform = transforms.Compose([\n",
    "    transforms.Resize((64, 64)),           # Resize to fixed size\n",
    "    transforms.ToTensor(),                 # Convert to tensor\n",
    "    transforms.Normalize([0.5], [0.5])     # Normalize to [-1, 1]\n",
    "])\n",
    "\n",
    "train_data = datasets.ImageFolder(root='dataset_split/train', transform=transform)\n",
    "test_data = datasets.ImageFolder('dataset_split/test', transform=transform)\n",
    "\n",
    "train_loader = DataLoader(train_data, batch_size=8, shuffle=True)\n",
    "test_loader = DataLoader(test_data, batch_size=8, shuffle=True)"
   ]
  },
  {
   "cell_type": "code",
   "execution_count": 9,
   "id": "1ae1f740",
   "metadata": {},
   "outputs": [
    {
     "name": "stdout",
     "output_type": "stream",
     "text": [
      "{'burger': 0, 'car': 1, 'hotdog': 2}\n",
      "3\n",
      "tensor([0, 0, 2, 0, 2, 1, 1, 1])\n",
      "tensor([1, 1, 0, 0, 2, 1, 0, 2])\n",
      "tensor([2, 1, 0, 2, 2, 0, 0, 1])\n",
      "tensor([0, 0, 1, 1, 1, 1, 2, 1])\n",
      "tensor([2, 1, 2, 2, 0, 2, 1, 1])\n",
      "tensor([2, 0, 0, 2, 2, 0, 1, 1])\n",
      "tensor([1, 1, 0, 2, 0, 2, 1, 1])\n",
      "tensor([1, 2, 2, 2, 0, 1, 1, 2])\n",
      "tensor([0, 2, 2, 1, 1, 2, 1, 0])\n",
      "tensor([2, 0, 0, 0, 0, 0, 2, 1])\n",
      "tensor([2, 2, 0, 0, 1, 2, 1, 1])\n",
      "tensor([0, 1, 2, 0, 0, 1, 2, 2])\n",
      "tensor([2, 1, 2, 0, 1, 0, 2, 0])\n",
      "tensor([1, 1, 1, 1, 2, 0, 0, 2])\n",
      "tensor([0, 2, 1, 0, 0, 2, 0, 0])\n",
      "tensor([2])\n"
     ]
    }
   ],
   "source": [
    "print(train_data.class_to_idx)  # must match your folders\n",
    "print(len(train_data.classes))  # must match output layer\n",
    "\n",
    "for _, y in train_loader:\n",
    "    print(y)\n",
    "    assert y.max() < len(train_data.classes)\n"
   ]
  },
  {
   "cell_type": "code",
   "execution_count": 10,
   "id": "f7bf0a10",
   "metadata": {},
   "outputs": [],
   "source": [
    "class SimpleCNN(nn.Module):\n",
    "    def __init__(self):\n",
    "        super().__init__()\n",
    "        self.conv = nn.Sequential(\n",
    "            nn.Conv2d(3, 16, 3, padding=1),\n",
    "            nn.ReLU(),\n",
    "            nn.MaxPool2d(2),\n",
    "\n",
    "            nn.Conv2d(16, 32, 3, padding=1),\n",
    "            nn.ReLU(),\n",
    "            nn.MaxPool2d(2)\n",
    "        )\n",
    "        self.fc = nn.Sequential(\n",
    "            nn.Flatten(),\n",
    "            nn.Linear(32 * 16 * 16, 64),\n",
    "            nn.ReLU(),\n",
    "            nn.Linear(64, len(train_data.classes))\n",
    "        )\n",
    "\n",
    "    def forward(self, x):\n",
    "        return self.fc(self.conv(x))\n",
    "\n",
    "model = SimpleCNN().to(device)"
   ]
  },
  {
   "cell_type": "code",
   "execution_count": 11,
   "id": "6808a442",
   "metadata": {},
   "outputs": [],
   "source": [
    "criterion = nn.CrossEntropyLoss()\n",
    "optimizer = optim.Adam(model.parameters(), lr=1e-3)"
   ]
  },
  {
   "cell_type": "code",
   "execution_count": null,
   "id": "0e249cb1",
   "metadata": {},
   "outputs": [
    {
     "name": "stdout",
     "output_type": "stream",
     "text": [
      "Epoch 1: Loss=4.3175, Acc=95.04%\n",
      "Validation Acc: 90.32%\n",
      "Epoch 2: Loss=2.6351, Acc=96.69%\n",
      "Validation Acc: 90.32%\n",
      "Epoch 3: Loss=1.9988, Acc=96.69%\n",
      "Validation Acc: 87.10%\n",
      "Epoch 4: Loss=2.2608, Acc=95.04%\n",
      "Validation Acc: 90.32%\n",
      "Epoch 5: Loss=1.3655, Acc=96.69%\n",
      "Validation Acc: 90.32%\n"
     ]
    }
   ],
   "source": [
    "epochs = 5\n",
    "\n",
    "for epoch in range(epochs):\n",
    "    model.train()\n",
    "    total_loss = 0\n",
    "    correct = 0\n",
    "    total = 0\n",
    "\n",
    "    for x, y in train_loader:\n",
    "        x, y = x.to(device), y.to(device)\n",
    "\n",
    "        optimizer.zero_grad()\n",
    "        out = model(x)\n",
    "        loss = criterion(out, y)\n",
    "        loss.backward()\n",
    "        optimizer.step()\n",
    "\n",
    "        total_loss += loss.item()\n",
    "        pred = torch.argmax(out, dim=1)\n",
    "        correct += (pred == y).sum().item()\n",
    "        total += y.size(0)\n",
    "\n",
    "    acc = 100 * correct / total\n",
    "    print(f\"Epoch {epoch+1}: Loss={total_loss:.4f}, Acc={acc:.2f}%\")\n",
    "\n",
    "    model.eval()\n",
    "    val_correct = 0\n",
    "    val_total = 0\n",
    "\n",
    "    with torch.no_grad():\n",
    "        for x_val, y_val in test_loader:\n",
    "            x_val, y_val = x_val.to(device), y_val.to(device)\n",
    "            out_val = model(x_val)\n",
    "            pred_val = torch.argmax(out_val, dim=1)\n",
    "            val_correct += (pred_val == y_val).sum().item()\n",
    "            val_total += y_val.size(0)\n",
    "\n",
    "    val_acc = 100 * val_correct / val_total\n",
    "    print(f\"Validation Acc: {val_acc:.2f}%\")"
   ]
  },
  {
   "cell_type": "code",
   "execution_count": null,
   "id": "fc1f8c26",
   "metadata": {},
   "outputs": [],
   "source": [
    "# save model as pth\n",
    "# torch.save(model.state_dict(), \"ml_models/simplecnn.pth\")"
   ]
  },
  {
   "cell_type": "code",
   "execution_count": null,
   "id": "8c464b6d",
   "metadata": {},
   "outputs": [],
   "source": [
    "# export to onxx\n",
    "# dummy_input = torch.randn(1, 3, 64, 64).to(device)\n",
    "# torch.onnx.export(model, dummy_input, \"ml_models/simplecnn.onnx\", \n",
    "#                   input_names=[\"input\"], output_names=[\"output\"],\n",
    "#                   dynamic_axes={\"input\": {0: \"batch_size\"}, \"output\": {0: \"batch_size\"}},\n",
    "#                   opset_version=11)"
   ]
  },
  {
   "cell_type": "code",
   "execution_count": 3,
   "id": "dac21200",
   "metadata": {},
   "outputs": [
    {
     "data": {
      "text/plain": [
       "SimpleCNNForTest(\n",
       "  (conv): Sequential(\n",
       "    (0): Conv2d(3, 16, kernel_size=(3, 3), stride=(1, 1), padding=(1, 1))\n",
       "    (1): ReLU()\n",
       "    (2): MaxPool2d(kernel_size=2, stride=2, padding=0, dilation=1, ceil_mode=False)\n",
       "    (3): Conv2d(16, 32, kernel_size=(3, 3), stride=(1, 1), padding=(1, 1))\n",
       "    (4): ReLU()\n",
       "    (5): MaxPool2d(kernel_size=2, stride=2, padding=0, dilation=1, ceil_mode=False)\n",
       "  )\n",
       "  (fc): Sequential(\n",
       "    (0): Flatten(start_dim=1, end_dim=-1)\n",
       "    (1): Linear(in_features=8192, out_features=64, bias=True)\n",
       "    (2): ReLU()\n",
       "    (3): Linear(in_features=64, out_features=3, bias=True)\n",
       "  )\n",
       ")"
      ]
     },
     "execution_count": 3,
     "metadata": {},
     "output_type": "execute_result"
    }
   ],
   "source": [
    "# test a model for inference\n",
    "\n",
    "class SimpleCNNForTest(nn.Module):\n",
    "    def __init__(self, num_classes=3):  # adjust class count\n",
    "        super().__init__()\n",
    "        self.conv = nn.Sequential(\n",
    "            nn.Conv2d(3, 16, 3, padding=1),\n",
    "            nn.ReLU(),\n",
    "            nn.MaxPool2d(2),\n",
    "            nn.Conv2d(16, 32, 3, padding=1),\n",
    "            nn.ReLU(),\n",
    "            nn.MaxPool2d(2)\n",
    "        )\n",
    "        self.fc = nn.Sequential(\n",
    "            nn.Flatten(),\n",
    "            nn.Linear(32 * 16 * 16, 64),\n",
    "            nn.ReLU(),\n",
    "            nn.Linear(64, num_classes)\n",
    "        )\n",
    "\n",
    "    def forward(self, x):\n",
    "        return self.fc(self.conv(x))\n",
    "\n",
    "model = SimpleCNNForTest(num_classes=3)  # Match class count\n",
    "model.load_state_dict(torch.load(\"ml_models/simplecnn.pth\", map_location=device))\n",
    "model.to(device)\n",
    "model.eval()"
   ]
  },
  {
   "cell_type": "code",
   "execution_count": 5,
   "id": "7b371722",
   "metadata": {},
   "outputs": [
    {
     "name": "stdout",
     "output_type": "stream",
     "text": [
      "Predicted label: car (1.00)\n"
     ]
    }
   ],
   "source": [
    "# inference\n",
    "from PIL import Image\n",
    "from torchvision import transforms\n",
    "\n",
    "transform = transforms.Compose([\n",
    "    transforms.Resize((64, 64)),\n",
    "    transforms.ToTensor(),\n",
    "    transforms.Normalize([0.5], [0.5])\n",
    "])\n",
    "\n",
    "img = Image.open(\"inference/burg-2.png\").convert(\"RGB\")\n",
    "img_tensor = transform(img).unsqueeze(0)  # [1, 3, 64, 64]\n",
    "img_tensor = img_tensor.to(device)\n",
    "\n",
    "with torch.no_grad():\n",
    "    output = model(img_tensor)\n",
    "    pred = torch.argmax(output, dim=1)\n",
    "\n",
    "# print(\"Predicted class index:\", pred.item())\n",
    "idx_to_class = {0: 'burger', 1: 'car', 2: 'hotdog'}  # define based on your dataset\n",
    "predicted_label = idx_to_class[pred.item()]\n",
    "probs = torch.softmax(output, dim=1)\n",
    "confidence = probs[0][pred.item()].item()\n",
    "print(f\"Predicted label: {predicted_label} ({confidence:.2f})\")\n",
    "# print(\"Predicted label:\", predicted_label)\n"
   ]
  },
  {
   "cell_type": "code",
   "execution_count": null,
   "id": "d41fddb2",
   "metadata": {},
   "outputs": [],
   "source": []
  }
 ],
 "metadata": {
  "kernelspec": {
   "display_name": "Q1_2025_3.11",
   "language": "python",
   "name": "python3"
  },
  "language_info": {
   "codemirror_mode": {
    "name": "ipython",
    "version": 3
   },
   "file_extension": ".py",
   "mimetype": "text/x-python",
   "name": "python",
   "nbconvert_exporter": "python",
   "pygments_lexer": "ipython3",
   "version": "3.11.0"
  }
 },
 "nbformat": 4,
 "nbformat_minor": 5
}
